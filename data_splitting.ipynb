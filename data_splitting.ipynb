{
 "cells": [
  {
   "cell_type": "code",
   "execution_count": 1,
   "id": "d9e9e98c",
   "metadata": {},
   "outputs": [],
   "source": [
    "import os\n",
    "import random\n",
    "import shutil\n",
    "from pathlib import Path\n"
   ]
  },
  {
   "cell_type": "code",
   "execution_count": 7,
   "id": "7e73a794",
   "metadata": {},
   "outputs": [],
   "source": [
    "random.seed(42) # Reproducibility\n",
    "\n",
    "# Set random seed for reproducibility\n",
    "random.seed(42)\n",
    "\n",
    "source_dir = Path(\"data/PetImages\")\n",
    "target_dir = Path(\"data/cats-vs-dogs\")\n",
    "\n",
    "# Prepare train/train folders\n",
    "for split in [\"train\", \"test\"]:\n",
    "    for label in [\"Cat\", \"Dog\"]:\n",
    "        (target_dir / split / label).mkdir(parents=True, exist_ok=True)\n",
    "\n",
    "# Function to split and copy images\n",
    "def split_and_copy(label):\n",
    "    files = list((source_dir / label).glob(\"*.jpg\"))\n",
    "    random.shuffle(files)\n",
    "    split_idx = int(0.8 * len(files))\n",
    "    train_files = files[:split_idx]\n",
    "    val_files = files[split_idx:]\n",
    "\n",
    "    for f in train_files:\n",
    "        try:\n",
    "            shutil.copy(f, target_dir / \"train\" / label / f.name)\n",
    "        except:\n",
    "            continue  # Skip corrupt images\n",
    "\n",
    "    for f in val_files:\n",
    "        try:\n",
    "            shutil.copy(f, target_dir / \"test\" / label / f.name)\n",
    "        except:\n",
    "            continue\n",
    "\n",
    "# Do this for both classes\n",
    "split_and_copy(\"Cat\")\n",
    "split_and_copy(\"Dog\")"
   ]
  },
  {
   "cell_type": "code",
   "execution_count": null,
   "id": "b6633f1f",
   "metadata": {},
   "outputs": [],
   "source": [
    "print()"
   ]
  }
 ],
 "metadata": {
  "kernelspec": {
   "display_name": ".venv",
   "language": "python",
   "name": "python3"
  },
  "language_info": {
   "codemirror_mode": {
    "name": "ipython",
    "version": 3
   },
   "file_extension": ".py",
   "mimetype": "text/x-python",
   "name": "python",
   "nbconvert_exporter": "python",
   "pygments_lexer": "ipython3",
   "version": "3.13.2"
  }
 },
 "nbformat": 4,
 "nbformat_minor": 5
}
